{
 "cells": [
  {
   "cell_type": "markdown",
   "id": "3e3c31e1-17f6-4806-bda3-82dc4dd958eb",
   "metadata": {},
   "source": [
    "# Earth's global energy balance\n",
    "\n",
    "## Objectives\n",
    "\n",
    "- Understand the global energy flows and how it affect temperature\n",
    "- Understand that Earth's energy balance can be modelled in the simplest of all climate models\n",
    "\n",
    "## Resources\n",
    "\n",
    "- [The Energy Budget](https://scied.ucar.edu/learning-zone/how-climate-works/energy-budget)"
   ]
  },
  {
   "cell_type": "markdown",
   "id": "14a55611-9b46-4a2c-a617-988398ebe33f",
   "metadata": {
    "tags": []
   },
   "source": [
    "![](https://scied.ucar.edu/sites/default/files/media/images/radiation_budget_kiehl_trenberth_2011_900x645.jpg)\n",
    "[source](https://scied.ucar.edu/image/radiation-budget-diagram-earth-atmosphere)\n",
    "\n",
    "- Incoming and outgoing energy fluxes must be balanced\n",
    "- Incoming solar (shortwave) radiation, with solar constant $S_0 = 1362 W\\,m^{-2}$\n",
    "- Sunlight gets reflected due to clouds and brighter surfaces, $\\rightarrow$ planetary albedo, $\\alpha \\approx 0.3$\n",
    "- Outgoing (longwave) energy flux as black-body radiation, according to Stefan-Boltzmann $LW = \\sigma T^4$; $\\sigma=5.67 \\times 10^{-8}$\n",
    "\n",
    "$$\n",
    "\\frac{S_0}{4}(1-\\alpha) - \\sigma T_s^4 = 0\n",
    "$$\n",
    "\n",
    "**Questions**\n",
    "1. Why $\\frac{S_0}{4}$?\n",
    "2. What's the calculated **temperature**? What's the **actual** global mean surface temperature? Why is it different?\n",
    "3. What's the global mean surface temperature according to the (upwards) **surface radiation flux**?\n",
    "4. What's our previously calculated temperature **referring to**, then?\n",
    "5. Where does the **planetary albedo** value of 0.3 come from? \n",
    "6. Can you show that the incoming and outgoing fluxes are balanced?\n",
    "7. What happens if there is a **surplus** of energy?"
   ]
  },
  {
   "cell_type": "code",
   "execution_count": 1,
   "id": "44ea5ef3-389e-44a8-839a-58b3058f792d",
   "metadata": {
    "execution": {
     "iopub.execute_input": "2024-08-21T00:08:49.047221Z",
     "iopub.status.busy": "2024-08-21T00:08:49.046896Z",
     "iopub.status.idle": "2024-08-21T00:08:49.055793Z",
     "shell.execute_reply": "2024-08-21T00:08:49.055044Z"
    }
   },
   "outputs": [
    {
     "name": "stdout",
     "output_type": "stream",
     "text": [
      "Q1\n",
      "ratio A_circle:A_sphere = 0.25\n"
     ]
    }
   ],
   "source": [
    "print(\"Q1\")\n",
    "r = 1\n",
    "pi = 3.1514\n",
    "A_sphere = 4*pi*r**2\n",
    "A_circle = pi*r**2\n",
    "\n",
    "print(f\"ratio A_circle:A_sphere = {A_circle/A_sphere}\")"
   ]
  },
  {
   "cell_type": "code",
   "execution_count": 2,
   "id": "9e32e30e-9e12-448c-8410-8d686be52eaf",
   "metadata": {
    "execution": {
     "iopub.execute_input": "2024-08-21T00:08:49.058947Z",
     "iopub.status.busy": "2024-08-21T00:08:49.058686Z",
     "iopub.status.idle": "2024-08-21T00:08:49.063234Z",
     "shell.execute_reply": "2024-08-21T00:08:49.062648Z"
    }
   },
   "outputs": [
    {
     "name": "stdout",
     "output_type": "stream",
     "text": [
      "Q2\n",
      "T = -18.5°C\n"
     ]
    }
   ],
   "source": [
    "print(\"Q2\")\n",
    "S0 = 1362\n",
    "sigma = 5.67e-8\n",
    "alpha = 0.3\n",
    "T0 = 273.15 # K -> °C\n",
    "\n",
    "SW = (S0/4*(1-alpha))\n",
    "\n",
    "T = (SW/sigma)**0.25\n",
    "print(f\"T = {T-T0:.1f}°C\")"
   ]
  },
  {
   "cell_type": "code",
   "execution_count": 3,
   "id": "dc9ba115-69cb-4af9-9fda-e9d05b92e380",
   "metadata": {
    "execution": {
     "iopub.execute_input": "2024-08-21T00:08:49.066139Z",
     "iopub.status.busy": "2024-08-21T00:08:49.065900Z",
     "iopub.status.idle": "2024-08-21T00:08:49.069763Z",
     "shell.execute_reply": "2024-08-21T00:08:49.069196Z"
    }
   },
   "outputs": [
    {
     "name": "stdout",
     "output_type": "stream",
     "text": [
      "Q3\n",
      "T = 15.9°C\n"
     ]
    }
   ],
   "source": [
    "print(\"Q3\")\n",
    "LW = 396.0\n",
    "T_surface = (LW/sigma)**0.25\n",
    "print(f\"T = {T_surface-T0:.1f}°C\")"
   ]
  },
  {
   "cell_type": "code",
   "execution_count": 4,
   "id": "2088a772-aa04-4e40-b36a-346d9b9316a2",
   "metadata": {
    "execution": {
     "iopub.execute_input": "2024-08-21T00:08:49.072605Z",
     "iopub.status.busy": "2024-08-21T00:08:49.072366Z",
     "iopub.status.idle": "2024-08-21T00:08:49.076053Z",
     "shell.execute_reply": "2024-08-21T00:08:49.075480Z"
    }
   },
   "outputs": [
    {
     "name": "stdout",
     "output_type": "stream",
     "text": [
      "Q4\n",
      "T = -18.6°C\n"
     ]
    }
   ],
   "source": [
    "print(\"Q4\")\n",
    "LW_top = 238.0\n",
    "T_top = (LW_top/sigma)**0.25\n",
    "print(f\"T = {T_top-T0:.1f}°C\")"
   ]
  },
  {
   "cell_type": "code",
   "execution_count": 5,
   "id": "ec8f8ed3-4f61-4f61-97b1-ac5bb9743e52",
   "metadata": {
    "execution": {
     "iopub.execute_input": "2024-08-21T00:08:49.078812Z",
     "iopub.status.busy": "2024-08-21T00:08:49.078586Z",
     "iopub.status.idle": "2024-08-21T00:08:49.082023Z",
     "shell.execute_reply": "2024-08-21T00:08:49.081482Z"
    }
   },
   "outputs": [
    {
     "name": "stdout",
     "output_type": "stream",
     "text": [
      "Q5\n",
      "alpha = 0.30\n"
     ]
    }
   ],
   "source": [
    "print(\"Q5\")\n",
    "SW_out = 102\n",
    "SW_in = 341\n",
    "print(f\"alpha = {SW_out/SW_in:.2f}\")"
   ]
  },
  {
   "cell_type": "code",
   "execution_count": 6,
   "id": "22fb69f3-6423-4b34-8376-240c8c88e17b",
   "metadata": {
    "execution": {
     "iopub.execute_input": "2024-08-21T00:08:49.084771Z",
     "iopub.status.busy": "2024-08-21T00:08:49.084518Z",
     "iopub.status.idle": "2024-08-21T00:08:49.088053Z",
     "shell.execute_reply": "2024-08-21T00:08:49.087494Z"
    }
   },
   "outputs": [
    {
     "name": "stdout",
     "output_type": "stream",
     "text": [
      "Q6\n",
      "SW = 238.35°W/m2\n",
      "LW = 238.35°W/m2\n"
     ]
    }
   ],
   "source": [
    "print(\"Q6\")\n",
    "LW = sigma*T**4\n",
    "\n",
    "print(f\"SW = {SW:.2f}°W/m2\")\n",
    "print(f\"LW = {LW:.2f}°W/m2\")"
   ]
  },
  {
   "cell_type": "code",
   "execution_count": null,
   "id": "9e21d2a1-8f6b-45f9-a568-738362312d9e",
   "metadata": {},
   "outputs": [],
   "source": []
  }
 ],
 "metadata": {
  "kernelspec": {
   "display_name": "ASP Winterschool 2023",
   "language": "python",
   "name": "asp_winterschool"
  },
  "language_info": {
   "codemirror_mode": {
    "name": "ipython",
    "version": 3
   },
   "file_extension": ".py",
   "mimetype": "text/x-python",
   "name": "python",
   "nbconvert_exporter": "python",
   "pygments_lexer": "ipython3",
   "version": "3.11.9"
  }
 },
 "nbformat": 4,
 "nbformat_minor": 5
}
