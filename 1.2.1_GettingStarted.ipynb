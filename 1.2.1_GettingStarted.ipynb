{
 "cells": [
  {
   "cell_type": "markdown",
   "id": "15c8cac3-e403-4b1e-a762-b5eb8514ebb2",
   "metadata": {},
   "source": [
    "# What is Markdown?\n",
    "\n",
    "Hey, I'm a Markdown cell. Like HTML or *LaTeX*, Markdown is a markup language.\n",
    "\n",
    "Just simpler.\n",
    "\n",
    "Have a look youself.\n",
    "\n",
    "If you <double+click> on this field, I become a text field and you can edit me.\n",
    "\n",
    "Use <shift+return> to render me."
   ]
  },
  {
   "cell_type": "markdown",
   "id": "21bfa65a-7b9a-46a2-bc8f-92daeb87aa80",
   "metadata": {
    "tags": []
   },
   "source": [
    "## Add *LaTeX* commands\n",
    "\n",
    "*LaTeX* commands are enclosed between single `$...$` (inline equation) or double `$$...$$`.\n",
    "\n",
    "Here's a silly equation\n",
    "\n",
    "$$ 1 + \\sum_i^{\\infty-12} 2_i \\neq 5^\\pi $$\n",
    "\n",
    "Or, type inline math, such as $i \\in {1,2,3}$."
   ]
  },
  {
   "cell_type": "markdown",
   "id": "c9a6828f-ac84-4822-b131-288f9c503bf4",
   "metadata": {},
   "source": [
    "## Other Markdown formatting \n",
    "\n",
    "- headers start with `#` (heading) or `##` (subheading), etc\n",
    "- make a word **bold**, *italics*, or ~~strikethrough~~ by using `**bold**`, `*italics*`, or `~~strikethrough~~`\n",
    "- bullets for a list start with `-` or `*`\n",
    "- create links using `[link text](actual link, e.g., https://google.com)`\n",
    "- insert images with `![](link/to/image.png)` ![](https://images.unsplash.com/photo-1608848461950-0fe51dfc41cb?ixlib=rb-4.0.3&ixid=M3wxMjA3fDB8MHxwaG90by1wYWdlfHx8fGVufDB8fHx8fA%3D%3D&auto=format&fit=crop&w=48&q=80); source: [Unsplash](https://unsplash.com/photos/s1puI2BWQzQ)\n",
    "- tables are also supported\n",
    "\n",
    "| name  | occupation | salary |\n",
    "|-------|------------|--------|\n",
    "| Mario | Plumber    | \\$30k  |\n",
    "| Luigi | Plumber    | \\$40k  |\n",
    "| Peach | Princess   | \\$1M   |\n",
    "\n",
    "- code blocks\n",
    "\n",
    "```bash\n",
    "cd ../\n",
    "# a comment\n",
    "ls -lh\n",
    "whoami\n",
    "```\n",
    "\n",
    "For more details, check out John Gruber's original [Markdown specs](https://daringfireball.net/projects/markdown/)."
   ]
  },
  {
   "cell_type": "markdown",
   "id": "60e419c8-ab3a-43b1-a7a8-87ff4dc59cc1",
   "metadata": {},
   "source": [
    "# What is Python?"
   ]
  },
  {
   "cell_type": "code",
   "execution_count": 1,
   "id": "3fc9ff2c-7340-4558-a73d-33add217e578",
   "metadata": {
    "execution": {
     "iopub.execute_input": "2024-08-21T00:08:39.496881Z",
     "iopub.status.busy": "2024-08-21T00:08:39.496584Z",
     "iopub.status.idle": "2024-08-21T00:08:39.507195Z",
     "shell.execute_reply": "2024-08-21T00:08:39.506544Z"
    }
   },
   "outputs": [
    {
     "data": {
      "text/plain": [
       "3"
      ]
     },
     "execution_count": 1,
     "metadata": {},
     "output_type": "execute_result"
    }
   ],
   "source": [
    "# Python as a calculator\n",
    "1+2"
   ]
  },
  {
   "cell_type": "code",
   "execution_count": 2,
   "id": "3574c739-653d-416b-bfd3-a4de9a378695",
   "metadata": {
    "execution": {
     "iopub.execute_input": "2024-08-21T00:08:39.510511Z",
     "iopub.status.busy": "2024-08-21T00:08:39.510244Z",
     "iopub.status.idle": "2024-08-21T00:08:39.513942Z",
     "shell.execute_reply": "2024-08-21T00:08:39.513355Z"
    }
   },
   "outputs": [
    {
     "name": "stdout",
     "output_type": "stream",
     "text": [
      "That's quite something\n"
     ]
    }
   ],
   "source": [
    "# set a variable\n",
    "a = \"something\"\n",
    "print(\"That's quite \"+a)"
   ]
  },
  {
   "cell_type": "code",
   "execution_count": 3,
   "id": "f2ff6632-f6d2-439d-804a-fa27b7fe19ac",
   "metadata": {
    "editable": true,
    "execution": {
     "iopub.execute_input": "2024-08-21T00:08:39.516935Z",
     "iopub.status.busy": "2024-08-21T00:08:39.516693Z",
     "iopub.status.idle": "2024-08-21T00:08:39.519877Z",
     "shell.execute_reply": "2024-08-21T00:08:39.519260Z"
    },
    "slideshow": {
     "slide_type": ""
    },
    "tags": []
   },
   "outputs": [],
   "source": [
    "name = \"Random Stranger\"\n",
    "# or uncomment the following line to fetch user input\n",
    "# name = input(\"type your name:\")"
   ]
  },
  {
   "cell_type": "code",
   "execution_count": 4,
   "id": "127a553b-59ca-4dab-9bb7-7a79ee439850",
   "metadata": {
    "execution": {
     "iopub.execute_input": "2024-08-21T00:08:39.522984Z",
     "iopub.status.busy": "2024-08-21T00:08:39.522722Z",
     "iopub.status.idle": "2024-08-21T00:08:39.526237Z",
     "shell.execute_reply": "2024-08-21T00:08:39.525592Z"
    }
   },
   "outputs": [
    {
     "name": "stdout",
     "output_type": "stream",
     "text": [
      "Random Stranger\n"
     ]
    }
   ],
   "source": [
    "print(name)"
   ]
  },
  {
   "cell_type": "code",
   "execution_count": 5,
   "id": "2f9a7389-ee87-49dc-ab94-4c341c8d44b9",
   "metadata": {
    "execution": {
     "iopub.execute_input": "2024-08-21T00:08:39.529489Z",
     "iopub.status.busy": "2024-08-21T00:08:39.529246Z",
     "iopub.status.idle": "2024-08-21T00:08:39.533553Z",
     "shell.execute_reply": "2024-08-21T00:08:39.532983Z"
    }
   },
   "outputs": [
    {
     "data": {
      "text/plain": [
       "3"
      ]
     },
     "execution_count": 5,
     "metadata": {},
     "output_type": "execute_result"
    }
   ],
   "source": [
    "# write a function\n",
    "def add1(x):\n",
    "    return x+1\n",
    "    \n",
    "add1(2)"
   ]
  },
  {
   "cell_type": "code",
   "execution_count": 6,
   "id": "85d8936e-3a17-4712-bf3b-3ed5b664f67b",
   "metadata": {
    "editable": true,
    "execution": {
     "iopub.execute_input": "2024-08-21T00:08:39.536420Z",
     "iopub.status.busy": "2024-08-21T00:08:39.536183Z",
     "iopub.status.idle": "2024-08-21T00:08:39.703643Z",
     "shell.execute_reply": "2024-08-21T00:08:39.703130Z"
    },
    "slideshow": {
     "slide_type": ""
    },
    "tags": [
     "raises-exception"
    ]
   },
   "outputs": [
    {
     "ename": "TypeError",
     "evalue": "can only concatenate str (not \"int\") to str",
     "output_type": "error",
     "traceback": [
      "\u001b[0;31m---------------------------------------------------------------------------\u001b[0m",
      "\u001b[0;31mTypeError\u001b[0m                                 Traceback (most recent call last)",
      "Cell \u001b[0;32mIn[6], line 2\u001b[0m\n\u001b[1;32m      1\u001b[0m \u001b[38;5;66;03m# Can you explain why this doesn't work?\u001b[39;00m\n\u001b[0;32m----> 2\u001b[0m \u001b[43madd1\u001b[49m\u001b[43m(\u001b[49m\u001b[43mname\u001b[49m\u001b[43m)\u001b[49m\n",
      "Cell \u001b[0;32mIn[5], line 3\u001b[0m, in \u001b[0;36madd1\u001b[0;34m(x)\u001b[0m\n\u001b[1;32m      2\u001b[0m \u001b[38;5;28;01mdef\u001b[39;00m \u001b[38;5;21madd1\u001b[39m(x):\n\u001b[0;32m----> 3\u001b[0m     \u001b[38;5;28;01mreturn\u001b[39;00m \u001b[43mx\u001b[49m\u001b[38;5;241;43m+\u001b[39;49m\u001b[38;5;241;43m1\u001b[39;49m\n",
      "\u001b[0;31mTypeError\u001b[0m: can only concatenate str (not \"int\") to str"
     ]
    }
   ],
   "source": [
    "# Can you explain why this doesn't work?\n",
    "add1(name)"
   ]
  },
  {
   "cell_type": "markdown",
   "id": "9b51c39e-e71a-4e39-8064-e8e4feda0774",
   "metadata": {
    "editable": true,
    "slideshow": {
     "slide_type": ""
    },
    "tags": []
   },
   "source": [
    "OK. Let's try some coding.\n",
    "\n",
    "1. import the Python packages\n",
    "2. run your code\n",
    "3. 8-)"
   ]
  },
  {
   "cell_type": "code",
   "execution_count": 7,
   "id": "14e259fd-b2c1-4fda-b8a9-95d04f2af33b",
   "metadata": {
    "execution": {
     "iopub.execute_input": "2024-08-21T00:08:39.706024Z",
     "iopub.status.busy": "2024-08-21T00:08:39.705846Z",
     "iopub.status.idle": "2024-08-21T00:08:40.369863Z",
     "shell.execute_reply": "2024-08-21T00:08:40.369302Z"
    }
   },
   "outputs": [],
   "source": [
    "import matplotlib.pyplot as plt\n",
    "import cartopy.crs as ccrs\n",
    "import numpy as np\n",
    "\n",
    "%load_ext watermark"
   ]
  },
  {
   "cell_type": "code",
   "execution_count": 8,
   "id": "fcf09173-f340-4f68-b596-a5c4b078792d",
   "metadata": {
    "execution": {
     "iopub.execute_input": "2024-08-21T00:08:40.372792Z",
     "iopub.status.busy": "2024-08-21T00:08:40.372523Z",
     "iopub.status.idle": "2024-08-21T00:08:41.303419Z",
     "shell.execute_reply": "2024-08-21T00:08:41.302892Z"
    }
   },
   "outputs": [
    {
     "data": {
      "image/png": "[encoded data removed]",
      "text/plain": [
       "<Figure size 600x800 with 1 Axes>"
      ]
     },
     "metadata": {},
     "output_type": "display_data"
    }
   ],
   "source": [
    "proj = ccrs.epsg(2193) # New Zealand projection\n",
    "fig, ax = plt.subplots(1,1, subplot_kw={\"projection\": proj}, figsize=(6,8))\n",
    "ax.coastlines(lw=1);\n",
    "ax.set_global()\n",
    "\n",
    "# # coordinates of Wellington\n",
    "# lat, lon = -41.2924, 174.7787\n",
    "# ax.plot(lon,lat,'r*',markersize=10, transform=ccrs.PlateCarree()) # add as red (r) asterisk (*) -> 'r*'\n",
    "# ax.text(lon+0.5,lat,\"Wellington\", transform=ccrs.PlateCarree(), bbox=dict(facecolor='white', alpha=0.8))\n",
    "\n",
    "# # make a blob\n",
    "# x = np.linspace(-1,1,200)\n",
    "# y = np.linspace(-1,1,200)\n",
    "# X, Y = np.meshgrid(x,y)\n",
    "# Z = np.exp(-(X**2+Y**2))\n",
    "# # set values that are outside the unit circle to NaN (Not a Number)\n",
    "# Z = np.where(X**2+Y**2>1,np.nan,Z)\n",
    "\n",
    "# lon_lat_box = [168,179,-45,-38]\n",
    "# # add the blob to the axis\n",
    "# im = ax.imshow(Z, extent=lon_lat_box, transform=ccrs.PlateCarree())\n",
    "# plt.colorbar(im, ax=ax, shrink=0.7) # add colorbar"
   ]
  },
  {
   "cell_type": "markdown",
   "id": "5eedde56-2bcb-4ab6-b13f-f42c1307c6fc",
   "metadata": {},
   "source": [
    "Jupyter support some line *magic* in the form of `%`. Here's `%whos` in action:"
   ]
  },
  {
   "cell_type": "code",
   "execution_count": 9,
   "id": "327e6d77-211b-4252-915f-3f051586b722",
   "metadata": {
    "execution": {
     "iopub.execute_input": "2024-08-21T00:08:41.306570Z",
     "iopub.status.busy": "2024-08-21T00:08:41.306006Z",
     "iopub.status.idle": "2024-08-21T00:08:41.309477Z",
     "shell.execute_reply": "2024-08-21T00:08:41.308901Z"
    }
   },
   "outputs": [
    {
     "name": "stdout",
     "output_type": "stream",
     "text": [
      "Variable   Type               Data/Info\n",
      "---------------------------------------\n",
      "a          str                something\n",
      "add1       function           <function add1 at 0x109d70ae0>\n",
      "ax         GeoAxes            < GeoAxes: PROJCRS[\"NZGD2<...>8.63]],ID[\"EPSG\",2193]] >\n",
      "ccrs       module             <module 'cartopy.crs' fro<...>packages/cartopy/crs.py'>\n",
      "fig        Figure             Figure(600x800)\n",
      "name       str                Random Stranger\n",
      "np         module             <module 'numpy' from '/us<...>kages/numpy/__init__.py'>\n",
      "plt        module             <module 'matplotlib.pyplo<...>es/matplotlib/pyplot.py'>\n",
      "proj       _EPSGProjection    PROJCRS[\"NZGD2000 / New Z<...>178.63]],ID[\"EPSG\",2193]]\n"
     ]
    }
   ],
   "source": [
    "%whos"
   ]
  },
  {
   "cell_type": "code",
   "execution_count": 10,
   "id": "3f9fb961-0c77-4e61-a234-34699af852eb",
   "metadata": {
    "execution": {
     "iopub.execute_input": "2024-08-21T00:08:41.311943Z",
     "iopub.status.busy": "2024-08-21T00:08:41.311748Z",
     "iopub.status.idle": "2024-08-21T00:08:41.337349Z",
     "shell.execute_reply": "2024-08-21T00:08:41.336654Z"
    }
   },
   "outputs": [
    {
     "name": "stdout",
     "output_type": "stream",
     "text": [
      "Last updated: 2024-08-21T12:08:41.312994+12:00\n",
      "\n",
      "Python implementation: CPython\n",
      "Python version       : 3.11.9\n",
      "IPython version      : 8.26.0\n",
      "\n",
      "Compiler    : Clang 16.0.6 \n",
      "OS          : Darwin\n",
      "Release     : 23.5.0\n",
      "Machine     : x86_64\n",
      "Processor   : i386\n",
      "CPU cores   : 12\n",
      "Architecture: 64bit\n",
      "\n",
      "matplotlib: 3.9.2\n",
      "cartopy   : 0.23.0\n",
      "numpy     : 1.26.4\n",
      "\n"
     ]
    }
   ],
   "source": [
    "%watermark\n",
    "%watermark --iversions"
   ]
  },
  {
   "cell_type": "code",
   "execution_count": null,
   "id": "21229fac-0333-44b3-885b-863293fa257a",
   "metadata": {},
   "outputs": [],
   "source": []
  }
 ],
 "metadata": {
  "kernelspec": {
   "display_name": "asp_winterschool",
   "language": "python",
   "name": "asp_winterschool"
  },
  "language_info": {
   "codemirror_mode": {
    "name": "ipython",
    "version": 3
   },
   "file_extension": ".py",
   "mimetype": "text/x-python",
   "name": "python",
   "nbconvert_exporter": "python",
   "pygments_lexer": "ipython3",
   "version": "3.11.9"
  }
 },
 "nbformat": 4,
 "nbformat_minor": 5
}
